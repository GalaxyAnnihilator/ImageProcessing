{
 "cells": [
  {
   "cell_type": "code",
   "execution_count": 1,
   "metadata": {},
   "outputs": [],
   "source": [
    "import numpy as np"
   ]
  },
  {
   "cell_type": "code",
   "execution_count": 2,
   "metadata": {},
   "outputs": [
    {
     "name": "stdout",
     "output_type": "stream",
     "text": [
      "[-2.+0.j  0.+0.j 10.+0.j  0.+0.j]\n"
     ]
    }
   ],
   "source": [
    "x = np.array([2,-3,2,-3])\n",
    "X = np.fft.fft(x)\n",
    "print(X)"
   ]
  },
  {
   "cell_type": "code",
   "execution_count": 9,
   "metadata": {},
   "outputs": [
    {
     "name": "stdout",
     "output_type": "stream",
     "text": []
    }
   ],
   "source": [
    "import matplotlib.pyplot as plt\n",
    "\n",
    "plt.magnitude_spectrum(X)\n",
    "plt.grid(\"on\")\n",
    "plt.show()"
   ]
  },
  {
   "cell_type": "code",
   "execution_count": 8,
   "metadata": {},
   "outputs": [
    {
     "name": "stdout",
     "output_type": "stream",
     "text": []
    }
   ],
   "source": [
    "plt.phase_spectrum(X)\n",
    "plt.grid(\"on\")\n",
    "plt.show()"
   ]
  },
  {
   "cell_type": "code",
   "execution_count": 15,
   "metadata": {},
   "outputs": [
    {
     "name": "stdout",
     "output_type": "stream",
     "text": []
    }
   ],
   "source": [
    "L = 10\n",
    "N = 50\n",
    "x = np.zeros(N)\n",
    "x[:L] = 1\n",
    "X = np.fft.fft(x)\n",
    "# Frequency indices\n",
    "k = np.arange(N)\n",
    "\n",
    "# Plot\n",
    "plt.figure(figsize=(12, 6))\n",
    "\n",
    "# --- Magnitude Spectrum ---\n",
    "plt.subplot(2, 1, 1)\n",
    "plt.stem(k, np.abs(X))\n",
    "plt.ylabel(r'$|X(\\frac{2\\pi k}{N})|$')\n",
    "plt.title(f'N = {N}')\n",
    "plt.grid(True)\n",
    "plt.xlim(0, N)\n",
    "plt.xticks(np.linspace(0, N, 11))\n",
    "plt.ylim(0, max(np.abs(X)) + 1)\n",
    "\n",
    "# --- Phase Spectrum ---\n",
    "plt.subplot(2, 1, 2)\n",
    "plt.stem(k, np.angle(X))\n",
    "plt.ylabel(r'$\\theta(\\frac{2\\pi k}{N})$')\n",
    "plt.xlabel(r'$k$')\n",
    "plt.grid(True)\n",
    "plt.xlim(0, N)\n",
    "plt.xticks(np.linspace(0, N, 11))\n",
    "plt.yticks([-np.pi, 0, np.pi], [r'$-\\pi$', '0', r'$\\pi$'])\n",
    "\n",
    "plt.tight_layout()\n",
    "plt.show()"
   ]
  }
 ],
 "metadata": {
  "kernelspec": {
   "display_name": "base",
   "language": "python",
   "name": "python3"
  },
  "language_info": {
   "codemirror_mode": {
    "name": "ipython",
    "version": 3
   },
   "file_extension": ".py",
   "mimetype": "text/x-python",
   "name": "python",
   "nbconvert_exporter": "python",
   "pygments_lexer": "ipython3",
   "version": "3.12.7"
  }
 },
 "nbformat": 4,
 "nbformat_minor": 2
}
