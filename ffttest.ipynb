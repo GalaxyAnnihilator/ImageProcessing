{
 "cells": [
  {
   "cell_type": "code",
   "execution_count": 1,
   "metadata": {},
   "outputs": [],
   "source": [
    "import numpy as np"
   ]
  },
  {
   "cell_type": "code",
   "execution_count": 2,
   "metadata": {},
   "outputs": [
    {
     "name": "stdout",
     "output_type": "stream",
     "text": [
      "[-2.+0.j  0.+0.j 10.+0.j  0.+0.j]\n"
     ]
    }
   ],
   "source": [
    "x = np.array([2,-3,2,-3])\n",
    "X = np.fft.fft(x)\n",
    "print(X)"
   ]
  },
  {
   "cell_type": "code",
   "execution_count": 9,
   "metadata": {},
   "outputs": [
    {
     "name": "stdout",
     "output_type": "stream",
     "text": []
    }
   ],
   "source": [
    "import matplotlib.pyplot as plt\n",
    "\n",
    "plt.magnitude_spectrum(X)\n",
    "plt.grid(\"on\")\n",
    "plt.show()"
   ]
  },
  {
   "cell_type": "code",
   "execution_count": 8,
   "metadata": {},
   "outputs": [
    {
     "name": "stdout",
     "output_type": "stream",
     "text": []
    }
   ],
   "source": [
    "plt.phase_spectrum(X)\n",
    "plt.grid(\"on\")\n",
    "plt.show()"
   ]
  },
  {
   "cell_type": "code",
   "execution_count": 15,
   "metadata": {},
   "outputs": [
    {
     "name": "stdout",
     "output_type": "stream",
     "text": []
    }
   ],
   "source": [
    "L = 10\n",
    "N = 50\n",
    "x = np.zeros(N)\n",
    "x[:L] = 1\n",
    "X = np.fft.fft(x)\n",
    "# Frequency indices\n",
    "k = np.arange(N)\n",
    "\n",
    "# Plot\n",
    "plt.figure(figsize=(12, 6))\n",
    "\n",
    "# --- Magnitude Spectrum ---\n",
    "plt.subplot(2, 1, 1)\n",
    "plt.stem(k, np.abs(X))\n",
    "plt.ylabel(r'$|X(\\frac{2\\pi k}{N})|$')\n",
    "plt.title(f'N = {N}')\n",
    "plt.grid(True)\n",
    "plt.xlim(0, N)\n",
    "plt.xticks(np.linspace(0, N, 11))\n",
    "plt.ylim(0, max(np.abs(X)) + 1)\n",
    "\n",
    "# --- Phase Spectrum ---\n",
    "plt.subplot(2, 1, 2)\n",
    "plt.stem(k, np.angle(X))\n",
    "plt.ylabel(r'$\\theta(\\frac{2\\pi k}{N})$')\n",
    "plt.xlabel(r'$k$')\n",
    "plt.grid(True)\n",
    "plt.xlim(0, N)\n",
    "plt.xticks(np.linspace(0, N, 11))\n",
    "plt.yticks([-np.pi, 0, np.pi], [r'$-\\pi$', '0', r'$\\pi$'])\n",
    "\n",
    "plt.tight_layout()\n",
    "plt.show()"
   ]
  },
  {
   "cell_type": "code",
   "execution_count": 3,
   "metadata": {},
   "outputs": [
    {
     "name": "stdout",
     "output_type": "stream",
     "text": [
      "[[ 0  0  0  0  0  0]\n",
      " [ 0  0 23 22  0  0]\n",
      " [ 0 23 34 34 22  0]\n",
      " [ 0 35 36 36 25  0]\n",
      " [ 0  0 34 34  0  0]\n",
      " [ 0  0  0  0  0  0]]\n"
     ]
    },
    {
     "data": {
      "text/plain": [
       "[]"
      ]
     },
     "execution_count": 3,
     "metadata": {},
     "output_type": "execute_result"
    },
    {
     "data": {
      "image/png": "[encoded data removed]",
      "text/plain": [
       "<Figure size 1600x600 with 2 Axes>"
      ]
     },
     "metadata": {},
     "output_type": "display_data"
    }
   ],
   "source": [
    "import cv2, numpy as np\n",
    "import matplotlib.pyplot as plt\n",
    "def medianFilter(img,i,j):\n",
    "    neighbor = []\n",
    "    for a in range(-1,2):\n",
    "        for b in range(-1,2):\n",
    "            neighbor.append(img[i+a][j+b])\n",
    "\n",
    "    neighbor.sort()\n",
    "    # print(neighbor)\n",
    "    return neighbor[4] \n",
    "      \n",
    "img = np.array([\n",
    "    [0,0,0,0,0,0],\n",
    "    [0,23,12,34,22,0],\n",
    "    [0,89,35,25,78,0],\n",
    "    [0,67,34,21,98,0],\n",
    "    [0,57,76,36,54,0],\n",
    "    [0,0,0,0,0,0]\n",
    "])\n",
    "\n",
    "plt.figure(figsize=(16,6))\n",
    "plt.subplot(1,2,1)\n",
    "plt.imshow(img,cmap=\"grey\")\n",
    "plt.axis(\"off\")\n",
    "plt.title(\"Original Image\")\n",
    "plt.plot()\n",
    "\n",
    "rows,cols = img.shape\n",
    "dummy = img.copy()\n",
    "for i in range(1,rows-1):\n",
    "    for j in range(1,cols-1):\n",
    "        dummy[i][j] = medianFilter(img,i,j)\n",
    "\n",
    "print(dummy)\n",
    "plt.subplot(1,2,2)\n",
    "plt.imshow(dummy,cmap=\"grey\")\n",
    "plt.axis(\"off\")\n",
    "plt.title(\"Median Filter\")\n",
    "plt.plot()"
   ]
  }
 ],
 "metadata": {
  "kernelspec": {
   "display_name": "base",
   "language": "python",
   "name": "python3"
  },
  "language_info": {
   "codemirror_mode": {
    "name": "ipython",
    "version": 3
   },
   "file_extension": ".py",
   "mimetype": "text/x-python",
   "name": "python",
   "nbconvert_exporter": "python",
   "pygments_lexer": "ipython3",
   "version": "3.12.7"
  }
 },
 "nbformat": 4,
 "nbformat_minor": 2
}
